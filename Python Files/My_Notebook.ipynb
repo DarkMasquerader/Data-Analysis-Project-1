{
 "cells": [
  {
   "cell_type": "markdown",
   "metadata": {},
   "source": [
    "# Data Analysis"
   ]
  },
  {
   "cell_type": "markdown",
   "metadata": {},
   "source": [
    "### Handle imports"
   ]
  },
  {
   "cell_type": "code",
   "execution_count": null,
   "metadata": {},
   "outputs": [
    {
     "ename": "",
     "evalue": "",
     "output_type": "error",
     "traceback": [
      "\u001b[1;31mFailed to start the Kernel 'Python 3.9.6'. \n",
      "\u001b[1;31mView Jupyter <a href='command:jupyter.viewOutput'>log</a> for further details. spawn ENOTDIR"
     ]
    }
   ],
   "source": [
    "import pandas as pd \n",
    "import numpy as np \n",
    "import matplotlib \n",
    "import matplotlib.pyplot as plt \n"
   ]
  },
  {
   "cell_type": "markdown",
   "metadata": {},
   "source": [
    "### Read in Data"
   ]
  },
  {
   "cell_type": "code",
   "execution_count": null,
   "metadata": {},
   "outputs": [
    {
     "ename": "",
     "evalue": "",
     "output_type": "error",
     "traceback": [
      "\u001b[1;31mFailed to start the Kernel 'Python 3.9.6'. \n",
      "\u001b[1;31mView Jupyter <a href='command:jupyter.viewOutput'>log</a> for further details. spawn ENOTDIR"
     ]
    }
   ],
   "source": [
    "dataset = '912 Samples'\n",
    "stats_file = 'Stats.csv'\n",
    "details_file = 'Details.csv'\n",
    "io_path_base = f'../Data Analysis- Are F2P Games the Solomn Future/Datasets/{dataset}/'\n",
    "\n",
    "# Stats Datafile\n",
    "df_stats = pd.read_csv(f'{io_path_base}{stats_file}')\n",
    "# df_stats.columns\n",
    "\n",
    "# Details Datafile\n",
    "df_details = pd.read_csv(f'{io_path_base}{details_file}')\n",
    "# df_details.columns"
   ]
  },
  {
   "cell_type": "markdown",
   "metadata": {},
   "source": [
    "### Tags of Most Popular Games\n",
    "The code below generates plots showing the most popular tags of most popular games (ordered by current player count).\n",
    "\n",
    "These visualisations provide insight into what kind of game the developers should look to create. "
   ]
  },
  {
   "cell_type": "code",
   "execution_count": null,
   "metadata": {},
   "outputs": [
    {
     "ename": "",
     "evalue": "",
     "output_type": "error",
     "traceback": [
      "\u001b[1;31mFailed to start the Kernel 'Python 3.9.6'. \n",
      "\u001b[1;31mView Jupyter <a href='command:jupyter.viewOutput'>log</a> for further details. spawn ENOTDIR"
     ]
    }
   ],
   "source": [
    "# Isolate tags column\n",
    "df_game_tags = df_details['Tags']\n",
    "\n",
    "# Count the frequency of the tags\n",
    "tag_frequency_dict = dict()\n",
    "no_games = 100\n",
    "for rank in range(no_games):\n",
    "        cur_tag_list = df_game_tags.iloc[rank].replace('[', '').replace(']','').replace('\\'','').split(',')\n",
    "        cur_tag_list = [x.strip() for x in cur_tag_list]\n",
    "\n",
    "        for tag in cur_tag_list:\n",
    "            \n",
    "            # If tag already seen, update its counter\n",
    "            if tag in tag_frequency_dict:\n",
    "                tag_frequency_dict.update({tag:tag_frequency_dict.get(tag) + 1})\n",
    "            else:\n",
    "                 tag_frequency_dict.update({tag:1})\n",
    "                  \n",
    "# Order the dictionary by tag frequency\n",
    "tag_frequency_dict = dict(sorted(tag_frequency_dict.items(), key=lambda item: item[1], reverse=True))\n",
    "\n",
    "# Top x tags\n",
    "no_tags = 10\n",
    "\n",
    "# Plot bar plot\n",
    "labels = list(tag_frequency_dict.keys())\n",
    "values = list(tag_frequency_dict.values())\n",
    "plt.bar(labels[:no_tags], values[:no_tags])\n",
    "plt.xticks(rotation=90)\n",
    "\n",
    "# Pie plot\n",
    "plt.figure(figsize=(8,8))\n",
    "plt.pie(values[:no_tags], labels=labels[:no_tags], startangle=140)\n",
    "plt.axis('equal')\n",
    "plt.title(f'Top {no_tags} Tags of Successful Games\\n')\n",
    "plt.show()\n",
    "\n",
    "# Weighted bar to show how important multiplayer is, showing how its percentage increases per extra 20 games added"
   ]
  }
 ],
 "metadata": {
  "kernelspec": {
   "display_name": "Python 3",
   "language": "python",
   "name": "python3"
  },
  "language_info": {
   "codemirror_mode": {
    "name": "ipython",
    "version": 3
   },
   "file_extension": ".py",
   "mimetype": "text/x-python",
   "name": "python",
   "nbconvert_exporter": "python",
   "pygments_lexer": "ipython3",
   "version": "3.9.6"
  }
 },
 "nbformat": 4,
 "nbformat_minor": 2
}
